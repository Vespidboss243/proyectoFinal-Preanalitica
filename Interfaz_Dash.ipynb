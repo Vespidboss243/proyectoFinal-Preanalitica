{
  "nbformat": 4,
  "nbformat_minor": 0,
  "metadata": {
    "colab": {
      "provenance": [],
      "authorship_tag": "ABX9TyN7qU0M3J7Qi+t1iwznpDcw",
      "include_colab_link": true
    },
    "kernelspec": {
      "name": "python3",
      "display_name": "Python 3"
    },
    "language_info": {
      "name": "python"
    }
  },
  "cells": [
    {
      "cell_type": "markdown",
      "metadata": {
        "id": "view-in-github",
        "colab_type": "text"
      },
      "source": [
        "<a href=\"https://colab.research.google.com/github/Vespidboss243/proyectoFinal-Preanalitica/blob/main/Interfaz_Dash.ipynb\" target=\"_parent\"><img src=\"https://colab.research.google.com/assets/colab-badge.svg\" alt=\"Open In Colab\"/></a>"
      ]
    },
    {
      "cell_type": "markdown",
      "source": [
        "# **Instalacion de paquetes**"
      ],
      "metadata": {
        "id": "Y8xvxWCtxaI4"
      }
    },
    {
      "cell_type": "code",
      "source": [
        "!pip install dash"
      ],
      "metadata": {
        "colab": {
          "base_uri": "https://localhost:8080/"
        },
        "id": "Plj87JRB8mPk",
        "outputId": "de70d952-5648-44c6-9234-bc5344b6fbc4"
      },
      "execution_count": 5,
      "outputs": [
        {
          "output_type": "stream",
          "name": "stdout",
          "text": [
            "Looking in indexes: https://pypi.org/simple, https://us-python.pkg.dev/colab-wheels/public/simple/\n",
            "Requirement already satisfied: dash in /usr/local/lib/python3.10/dist-packages (2.9.3)\n",
            "Requirement already satisfied: Flask>=1.0.4 in /usr/local/lib/python3.10/dist-packages (from dash) (2.2.4)\n",
            "Requirement already satisfied: plotly>=5.0.0 in /usr/local/lib/python3.10/dist-packages (from dash) (5.13.1)\n",
            "Requirement already satisfied: dash-html-components==2.0.0 in /usr/local/lib/python3.10/dist-packages (from dash) (2.0.0)\n",
            "Requirement already satisfied: dash-core-components==2.0.0 in /usr/local/lib/python3.10/dist-packages (from dash) (2.0.0)\n",
            "Requirement already satisfied: dash-table==5.0.0 in /usr/local/lib/python3.10/dist-packages (from dash) (5.0.0)\n",
            "Requirement already satisfied: Werkzeug>=2.2.2 in /usr/local/lib/python3.10/dist-packages (from Flask>=1.0.4->dash) (2.3.0)\n",
            "Requirement already satisfied: Jinja2>=3.0 in /usr/local/lib/python3.10/dist-packages (from Flask>=1.0.4->dash) (3.1.2)\n",
            "Requirement already satisfied: itsdangerous>=2.0 in /usr/local/lib/python3.10/dist-packages (from Flask>=1.0.4->dash) (2.1.2)\n",
            "Requirement already satisfied: click>=8.0 in /usr/local/lib/python3.10/dist-packages (from Flask>=1.0.4->dash) (8.1.3)\n",
            "Requirement already satisfied: tenacity>=6.2.0 in /usr/local/lib/python3.10/dist-packages (from plotly>=5.0.0->dash) (8.2.2)\n",
            "Requirement already satisfied: MarkupSafe>=2.0 in /usr/local/lib/python3.10/dist-packages (from Jinja2>=3.0->Flask>=1.0.4->dash) (2.1.2)\n"
          ]
        }
      ]
    },
    {
      "cell_type": "code",
      "source": [
        "!pip install dash_bootstrap_templates"
      ],
      "metadata": {
        "colab": {
          "base_uri": "https://localhost:8080/"
        },
        "id": "AHJawxJP82s9",
        "outputId": "06805dbc-8877-4016-ad63-d3f24c4367a1"
      },
      "execution_count": 8,
      "outputs": [
        {
          "output_type": "stream",
          "name": "stdout",
          "text": [
            "Looking in indexes: https://pypi.org/simple, https://us-python.pkg.dev/colab-wheels/public/simple/\n",
            "Collecting dash_bootstrap_templates\n",
            "  Downloading dash_bootstrap_templates-1.0.8-py3-none-any.whl (53 kB)\n",
            "\u001b[2K     \u001b[90m━━━━━━━━━━━━━━━━━━━━━━━━━━━━━━━━━━━━━━━━\u001b[0m \u001b[32m53.6/53.6 kB\u001b[0m \u001b[31m2.8 MB/s\u001b[0m eta \u001b[36m0:00:00\u001b[0m\n",
            "\u001b[?25hRequirement already satisfied: dash in /usr/local/lib/python3.10/dist-packages (from dash_bootstrap_templates) (2.9.3)\n",
            "Collecting dash-bootstrap-components>=1.0.0 (from dash_bootstrap_templates)\n",
            "  Downloading dash_bootstrap_components-1.4.1-py3-none-any.whl (220 kB)\n",
            "\u001b[2K     \u001b[90m━━━━━━━━━━━━━━━━━━━━━━━━━━━━━━━━━━━━━━━\u001b[0m \u001b[32m220.6/220.6 kB\u001b[0m \u001b[31m8.8 MB/s\u001b[0m eta \u001b[36m0:00:00\u001b[0m\n",
            "\u001b[?25hRequirement already satisfied: numpy in /usr/local/lib/python3.10/dist-packages (from dash_bootstrap_templates) (1.22.4)\n",
            "Requirement already satisfied: Flask>=1.0.4 in /usr/local/lib/python3.10/dist-packages (from dash->dash_bootstrap_templates) (2.2.4)\n",
            "Requirement already satisfied: plotly>=5.0.0 in /usr/local/lib/python3.10/dist-packages (from dash->dash_bootstrap_templates) (5.13.1)\n",
            "Requirement already satisfied: dash-html-components==2.0.0 in /usr/local/lib/python3.10/dist-packages (from dash->dash_bootstrap_templates) (2.0.0)\n",
            "Requirement already satisfied: dash-core-components==2.0.0 in /usr/local/lib/python3.10/dist-packages (from dash->dash_bootstrap_templates) (2.0.0)\n",
            "Requirement already satisfied: dash-table==5.0.0 in /usr/local/lib/python3.10/dist-packages (from dash->dash_bootstrap_templates) (5.0.0)\n",
            "Requirement already satisfied: Werkzeug>=2.2.2 in /usr/local/lib/python3.10/dist-packages (from Flask>=1.0.4->dash->dash_bootstrap_templates) (2.3.0)\n",
            "Requirement already satisfied: Jinja2>=3.0 in /usr/local/lib/python3.10/dist-packages (from Flask>=1.0.4->dash->dash_bootstrap_templates) (3.1.2)\n",
            "Requirement already satisfied: itsdangerous>=2.0 in /usr/local/lib/python3.10/dist-packages (from Flask>=1.0.4->dash->dash_bootstrap_templates) (2.1.2)\n",
            "Requirement already satisfied: click>=8.0 in /usr/local/lib/python3.10/dist-packages (from Flask>=1.0.4->dash->dash_bootstrap_templates) (8.1.3)\n",
            "Requirement already satisfied: tenacity>=6.2.0 in /usr/local/lib/python3.10/dist-packages (from plotly>=5.0.0->dash->dash_bootstrap_templates) (8.2.2)\n",
            "Requirement already satisfied: MarkupSafe>=2.0 in /usr/local/lib/python3.10/dist-packages (from Jinja2>=3.0->Flask>=1.0.4->dash->dash_bootstrap_templates) (2.1.2)\n",
            "Installing collected packages: dash-bootstrap-components, dash_bootstrap_templates\n",
            "Successfully installed dash-bootstrap-components-1.4.1 dash_bootstrap_templates-1.0.8\n"
          ]
        }
      ]
    },
    {
      "cell_type": "code",
      "source": [
        "!pip install pyngrok --quiet"
      ],
      "metadata": {
        "colab": {
          "base_uri": "https://localhost:8080/"
        },
        "id": "R9tU4MM-GKBl",
        "outputId": "55daf042-e48a-4812-bbce-bc906e50a175"
      },
      "execution_count": 22,
      "outputs": [
        {
          "output_type": "stream",
          "name": "stdout",
          "text": [
            "\u001b[?25l     \u001b[90m━━━━━━━━━━━━━━━━━━━━━━━━━━━━━━━━━━━━━━━━\u001b[0m \u001b[32m0.0/681.2 kB\u001b[0m \u001b[31m?\u001b[0m eta \u001b[36m-:--:--\u001b[0m\r\u001b[2K     \u001b[91m━━━━━━━━━━━━━━━━━\u001b[0m\u001b[91m╸\u001b[0m\u001b[90m━━━━━━━━━━━━━━━━━━━━━\u001b[0m \u001b[32m307.2/681.2 kB\u001b[0m \u001b[31m8.9 MB/s\u001b[0m eta \u001b[36m0:00:01\u001b[0m\r\u001b[2K     \u001b[90m━━━━━━━━━━━━━━━━━━━━━━━━━━━━━━━━━━━━━━\u001b[0m \u001b[32m681.2/681.2 kB\u001b[0m \u001b[31m10.5 MB/s\u001b[0m eta \u001b[36m0:00:00\u001b[0m\n",
            "\u001b[?25h  Preparing metadata (setup.py) ... \u001b[?25l\u001b[?25hdone\n",
            "  Building wheel for pyngrok (setup.py) ... \u001b[?25l\u001b[?25hdone\n"
          ]
        }
      ]
    },
    {
      "cell_type": "markdown",
      "source": [
        "# **Servidor**"
      ],
      "metadata": {
        "id": "25JKMl5WxgDw"
      }
    },
    {
      "cell_type": "code",
      "source": [
        "from pyngrok import ngrok\n",
        "\n",
        "# Terminate tunnels\n",
        "ngrok.kill()\n",
        "\n",
        "NGROK_AUTH_TOKEN=\"2Q8CG7fIa990WZrxsxpLBsG15nZ_6TmsGzZLCUSPZetHvRXuA\"\n",
        "ngrok.set_auth_token(NGROK_AUTH_TOKEN)"
      ],
      "metadata": {
        "id": "5Of6yfISGQKw"
      },
      "execution_count": 29,
      "outputs": []
    },
    {
      "cell_type": "markdown",
      "source": [
        "# **App**"
      ],
      "metadata": {
        "id": "3ReVaJE2xilf"
      }
    },
    {
      "cell_type": "code",
      "execution_count": 212,
      "metadata": {
        "colab": {
          "base_uri": "https://localhost:8080/"
        },
        "id": "FcwYhy8v8Omt",
        "outputId": "e8ca3694-58ab-433c-e73e-b41b5446dbe2"
      },
      "outputs": [
        {
          "output_type": "stream",
          "name": "stdout",
          "text": [
            "Overwriting app.py\n"
          ]
        }
      ],
      "source": [
        "%%writefile app.py\n",
        "\n",
        "#Cargamos librerías principales\n",
        "import numpy as np\n",
        "import pandas as pd\n",
        "import matplotlib.pyplot as plt\n",
        "from sklearn.pipeline import Pipeline\n",
        "from sklearn.compose import ColumnTransformer\n",
        "from sklearn.impute import SimpleImputer\n",
        "from sklearn.preprocessing import FunctionTransformer, MinMaxScaler, OneHotEncoder\n",
        "from jupyter_dash import JupyterDash  # pip install dash\n",
        "import dash_cytoscape as cyto  # pip install dash-cytoscape==0.2.0 or higher\n",
        "import dash_html_components as html\n",
        "import dash_core_components as dcc\n",
        "from dash.dependencies import Output, Input\n",
        "import pandas as pd  # pip install pandas\n",
        "import plotly.express as px\n",
        "import math\n",
        "from dash import no_update,State\n",
        "import dash\n",
        "from dash_bootstrap_templates import load_figure_template\n",
        "import dash_bootstrap_components as dbc\n",
        "\n",
        "load_figure_template('LUX')\n",
        "\n",
        "\n",
        "#Funcion para limpiar atípicos\n",
        "def remove_outliers(X):\n",
        "    #Se asigna valor nulo a los atípicos\n",
        "    X.arsenic[(X[\"arsenic\"]>0.6)]=np.nan #Nulo\n",
        "    X.aluminium[(X[\"aluminium\"]>4)]=np.nan #Nulo\n",
        "    return X\n",
        "\n",
        "#Cargamos el modelo\n",
        "import pickle\n",
        "filename = 'modeloD.pkl'\n",
        "modelD,pipe = pickle.load(open(filename, 'rb'))\n",
        "\n",
        "\n",
        "#aqui\n",
        "\n",
        "app = dash.Dash(external_stylesheets=[dbc.themes.LUX])\n",
        "app.layout = html.Div([html.H2(id='label',children=(['Prediccion de Calidad del Agua']),style = {'margin-left':'650px', 'margin-top':'45px', 'margin-right':'15px'})\n",
        "            ,html.Div(id='a',children=([dbc.Row([\n",
        "                                                 dbc.Col([\n",
        "                html.H6(id='label1',children=(['Aluminio']),style = {'margin-left':'70px', 'margin-top':'45px', 'margin-right':'15px'}),\n",
        "                dbc.Input(id=\"aluminium\",type=\"number\",min=\"0\", max=\"60\",value=0,required=True,style = {'margin-left':'70px', 'margin-top':'45px', 'margin-right':'15px','width':'125px','heigth':'20px'}),\n",
        "                \n",
        "                html.H6(id='label3',children=(['Amoniaco']),style = {'margin-left':'70px', 'margin-top':'45px', 'margin-right':'15px'}),\n",
        "                dbc.Input(id=\"ammonia\",type=\"number\",min=\"0\", max=\"60\",value=0,required=True,style = {'margin-left':'70px', 'margin-top':'45px', 'margin-right':'15px','width':'125px','heigth':'20px'}),\n",
        "                \n",
        "                html.H6(id='label5',children=(['Arsenico']),style = {'margin-left':'70px', 'margin-top':'45px', 'margin-right':'15px'}),\n",
        "                dbc.Input(id=\"arsenic\",type=\"number\",min=\"0\", max=\"60\",value=0,required=True,style = {'margin-left':'70px', 'margin-top':'45px', 'margin-right':'15px','width':'125px','heigth':'20px'}),\n",
        "                \n",
        "                html.H6(id='label7',children=(['Bario']),style = {'margin-left':'70px', 'margin-top':'45px', 'margin-right':'15px'}),\n",
        "                dbc.Input(id=\"barium\",type=\"number\",min=\"0\", max=\"60\",value=0,required=True,style = {'margin-left':'50px', 'margin-top':'45px', 'margin-right':'15px','width':'125px','heigth':'20px'}),\n",
        "\n",
        "                html.H6(id='label9',children=(['Cadmio']),style = {'margin-left':'70px', 'margin-top':'45px', 'margin-right':'15px'}),\n",
        "                dbc.Input(id=\"cadmium\",type=\"number\",min=\"0\", max=\"60\",value=0,required=True,style = {'margin-left':'70px', 'margin-top':'45px', 'margin-right':'15px','width':'125px','heigth':'20px'})\n",
        "                                                         ]) \n",
        "                                                \n",
        "                                                 ,dbc.Col([\n",
        "                                                    \n",
        "              \n",
        "                \n",
        "                html.H6(id='label11',children=(['Cromo']),style = {'margin-left':'70px', 'margin-top':'45px', 'margin-right':'15px'}),\n",
        "                dbc.Input(id=\"chromium\",type=\"number\",min=\"0\", max=\"60\",value=0,required=True,style = {'margin-left':'70px', 'margin-top':'45px', 'margin-right':'15px','width':'125px','heigth':'20px'}),\n",
        "                \n",
        "                html.H6(id='label13',children=(['Cloraminas']),style = {'margin-left':'70px', 'margin-top':'45px', 'margin-right':'15px'}),\n",
        "                dbc.Input(id=\"chloramine\",type=\"number\",min=\"0\", max=\"60\",value=0,required=True,style = {'margin-left':'70px', 'margin-top':'45px', 'margin-right':'15px','width':'125px','heigth':'20px'}),\n",
        "                \n",
        "                html.H6(id='label15',children=(['Cobre']),style = {'margin-left':'70px', 'margin-top':'45px', 'margin-right':'15px'}),\n",
        "                dbc.Input(id=\"copper\",type=\"number\",min=\"0\", max=\"60\",value=0,required=True,style = {'margin-left':'70px', 'margin-top':'45px', 'margin-right':'15px','width':'125px','heigth':'20px'}),\n",
        "                \n",
        "                html.H6(id='label17',children=(['Bacteria']),style = {'margin-left':'70px', 'margin-top':'45px', 'margin-right':'15px'}),\n",
        "                dbc.Input(id=\"bacteria\",type=\"number\",min=\"0\", max=\"60\",value=0,required=True,style = {'margin-left':'70px', 'margin-top':'45px', 'margin-right':'15px','width':'125px','heigth':'20px'}),\n",
        "\n",
        "                html.H6(id='label2',children=(['Virus']),style = {'margin-left':'70px', 'margin-top':'45px', 'margin-right':'15px'}),\n",
        "                dbc.Input(id=\"viruses\",type=\"number\",min=\"0\", max=\"60\",value=0,required=True,style = {'margin-left':'70px', 'margin-top':'45px', 'margin-right':'15px','width':'125px','heigth':'20px'})\n",
        "\n",
        "                                                        ])\n",
        "               \n",
        "                                                ,dbc.Col([\n",
        "                \n",
        "               \n",
        "                html.H6(id='label4',children=(['Nitrato']),style = {'margin-left':'70px', 'margin-top':'45px', 'margin-right':'15px'}),\n",
        "                dbc.Input(id=\"nitrates\",type=\"number\",min=\"0\", max=\"60\",value=0,required=True,style = {'margin-left':'70px', 'margin-top':'45px', 'margin-right':'15px','width':'125px','heigth':'20px'}),\n",
        "              \n",
        "                html.H6(id='label6',children=(['Nitrito']),style = {'margin-left':'70px', 'margin-top':'45px', 'margin-right':'15px'}),\n",
        "                dbc.Input(id=\"nitrites\",type=\"number\",min=\"0\", max=\"60\",value=0,required=True,style = {'margin-left':'70px', 'margin-top':'45px', 'margin-right':'15px','width':'125px','heigth':'20px'}),\n",
        "             \n",
        "                html.H6(id='label8',children=(['Mercurio']),style = {'margin-left':'70px', 'margin-top':'45px', 'margin-right':'15px'}),\n",
        "                dbc.Input(id=\"mercury\",type=\"number\",min=\"0\", max=\"60\",value=0,required=True,style = {'margin-left':'70px', 'margin-top':'45px', 'margin-right':'15px','width':'125px','heigth':'20px'}),\n",
        "           \n",
        "                html.H6(id='label10',children=(['Perclorato']),style = {'margin-left':'70px', 'margin-top':'45px', 'margin-right':'15px'}),\n",
        "                dbc.Input(id=\"perchlorate\",type=\"number\",min=\"0\", max=\"60\",value=0,required=True,style = {'margin-left':'70px', 'margin-top':'45px', 'margin-right':'15px','width':'125px','heigth':'20px'}),\n",
        "            \n",
        "                html.H6(id='label12',children=(['Radio']),style = {'margin-left':'70px', 'margin-top':'45px', 'margin-right':'15px'}),\n",
        "                dbc.Input(id=\"radium\",type=\"number\",min=\"0\", max=\"60\",value=0,required=True,style = {'margin-left':'70px', 'margin-top':'45px', 'margin-right':'15px','width':'125px','heigth':'20px'})\n",
        "\n",
        "                                                           ])\n",
        "                                                ,dbc.Col([\n",
        "             \n",
        "                html.H6(id='label14',children=(['Selenio']),style = {'margin-left':'70px', 'margin-top':'45px', 'margin-right':'15px'}),\n",
        "                dbc.Input(id=\"selenium\",type=\"number\",min=\"0\", max=\"60\",value=0,required=True,style = {'margin-left':'70px', 'margin-top':'45px', 'margin-right':'15px','width':'125px','heigth':'20px'}),\n",
        "              \n",
        "                html.H6(id='label16',children=(['Plata']),style = {'margin-left':'70px', 'margin-top':'45px', 'margin-right':'15px'}),\n",
        "                dbc.Input(id=\"silver\",type=\"number\",min=\"0\", max=\"60\",value=0,required=True,style = {'margin-left':'70px', 'margin-top':'45px', 'margin-right':'15px','width':'125px','heigth':'20px'}),\n",
        "              \n",
        "                html.H6(id='label18',children=(['Uranio']),style = {'margin-left':'70px', 'margin-top':'45px', 'margin-right':'15px'}),\n",
        "                dbc.Input(id=\"uranium\",type=\"number\",min=\"0\", max=\"60\",value=0,required=True,style = {'margin-left':'70px', 'margin-top':'45px', 'margin-right':'15px','width':'125px','heigth':'20px'})\n",
        "                                                           ]),\n",
        "                                                 \n",
        "              \n",
        "              \n",
        "\n",
        "              dbc.Row([dbc.Col([html.H2(id='resultado',children=(['Escriba los Valores']),style = {'margin-left':'50px', 'margin-top':'100px', 'margin-right':'15px','margin-bottom':'50px'})])\n",
        "              ,dbc.Col([html.Button('Clasificar',id='Clasificar', n_clicks=0,style = {'margin-left':'150px', 'margin-top':'100px', 'margin-right':'15px','width':'300px','heigth':'300px','margin-bottom':'50px'})])])])\n",
        "   \n",
        "            \n",
        "            \n",
        "            ]))\n",
        "                  \n",
        "                \n",
        "\n",
        "])\n",
        "\n",
        "\n",
        "@app.callback(\n",
        "    Output('resultado', 'children'),\n",
        "    Input('Clasificar', 'n_clicks'),\n",
        "    State('aluminium', 'value'),\n",
        "    State('ammonia', 'value'),\n",
        "    State('arsenic', 'value'),\n",
        "    State('barium', 'value'),\n",
        "    State('cadmium', 'value'),\n",
        "    State('chromium', 'value'),\n",
        "    State('chloramine', 'value'),\n",
        "    State('copper', 'value'),\n",
        "    State('bacteria', 'value'),\n",
        "    State('viruses', 'value'),\n",
        "    State('nitrates', 'value'),\n",
        "    State('nitrites', 'value'),\n",
        "    State('mercury', 'value'),\n",
        "    State('perchlorate', 'value'),\n",
        "    State('radium', 'value'),\n",
        "    State('selenium', 'value'),\n",
        "    State('silver', 'value'),\n",
        "    State('uranium', 'value')\n",
        "    \n",
        "    \n",
        "    \n",
        "    )\n",
        "\n",
        "def update_output(Clasificar,aluminium,ammonia,arsenic,barium,cadmium,chromium,chloramine,copper,bacteria,viruses,nitrates,nitrites,mercury,perchlorate,radium,selenium,silver,uranium):\n",
        "   \n",
        "   datos = [[aluminium,ammonia,arsenic,barium,cadmium,chloramine,chromium,copper,bacteria,viruses,nitrates,nitrites,mercury,perchlorate,radium,selenium,silver,uranium]]\n",
        "   data = pd.DataFrame(datos, columns=['aluminium','ammonia','arsenic','barium','cadmium','chloramine','chromium','copper','bacteria','viruses','nitrates','nitrites','mercury','perchlorate','radium','selenium','silver','uranium'])\n",
        "   df = pipe.transform(data)\n",
        "   predict = modelTree.predict(df)\n",
        "   \n",
        "   if(Clasificar>=1):\n",
        "   \n",
        "     if(predict[0]==0):\n",
        "       return \"El agua no es potable, no se recomienda su uso\"\n",
        "\n",
        "     elif(predict[0]==1):\n",
        "       return \"El agua es potable apta para el consumo \"\n",
        "     \n",
        "     else:\n",
        "      return \"Escriba los valores\"  \n",
        "   else:\n",
        "    return \"Ingrese los valores\"\n",
        "    \n",
        "\n",
        "#aqui\n",
        "\n",
        "if __name__ == '__main__':\n",
        "   app.run_server(debug=True)"
      ]
    },
    {
      "cell_type": "code",
      "source": [
        "ngrok.connect(8050)"
      ],
      "metadata": {
        "colab": {
          "base_uri": "https://localhost:8080/"
        },
        "id": "Qbpf_1FNHkf9",
        "outputId": "e879d922-66e0-4a2a-dd94-ad7b34078cfe"
      },
      "execution_count": 213,
      "outputs": [
        {
          "output_type": "stream",
          "name": "stderr",
          "text": [
            "WARNING:pyngrok.process.ngrok:t=2023-05-23T04:01:31+0000 lvl=warn msg=\"ngrok config file found at legacy location, move to XDG location\" xdg_path=/root/.config/ngrok/ngrok.yml legacy_path=/root/.ngrok2/ngrok.yml\n"
          ]
        },
        {
          "output_type": "execute_result",
          "data": {
            "text/plain": [
              "<NgrokTunnel: \"https://0323-34-148-97-149.ngrok-free.app\" -> \"http://localhost:8050\">"
            ]
          },
          "metadata": {},
          "execution_count": 213
        }
      ]
    },
    {
      "cell_type": "code",
      "source": [
        "!python app.py"
      ],
      "metadata": {
        "colab": {
          "base_uri": "https://localhost:8080/"
        },
        "id": "MJBBjmTnHtUw",
        "outputId": "11980ffe-6ee6-40fd-b7fc-a77eea82135a"
      },
      "execution_count": 214,
      "outputs": [
        {
          "output_type": "stream",
          "name": "stdout",
          "text": [
            "/content/app.py:12: UserWarning: \n",
            "The dash_html_components package is deprecated. Please replace\n",
            "`import dash_html_components as html` with `from dash import html`\n",
            "  import dash_html_components as html\n",
            "/content/app.py:13: UserWarning: \n",
            "The dash_core_components package is deprecated. Please replace\n",
            "`import dash_core_components as dcc` with `from dash import dcc`\n",
            "  import dash_core_components as dcc\n",
            "Dash is running on http://127.0.0.1:8050/\n",
            "\n",
            " * Serving Flask app 'app'\n",
            " * Debug mode: on\n",
            "/content/app.py:12: UserWarning: \n",
            "The dash_html_components package is deprecated. Please replace\n",
            "`import dash_html_components as html` with `from dash import html`\n",
            "  import dash_html_components as html\n",
            "/content/app.py:13: UserWarning: \n",
            "The dash_core_components package is deprecated. Please replace\n",
            "`import dash_core_components as dcc` with `from dash import dcc`\n",
            "  import dash_core_components as dcc\n",
            "/content/app.py:30: SettingWithCopyWarning:\n",
            "\n",
            "\n",
            "A value is trying to be set on a copy of a slice from a DataFrame\n",
            "\n",
            "See the caveats in the documentation: https://pandas.pydata.org/pandas-docs/stable/user_guide/indexing.html#returning-a-view-versus-a-copy\n",
            "\n",
            "/content/app.py:30: SettingWithCopyWarning:\n",
            "\n",
            "\n",
            "A value is trying to be set on a copy of a slice from a DataFrame\n",
            "\n",
            "See the caveats in the documentation: https://pandas.pydata.org/pandas-docs/stable/user_guide/indexing.html#returning-a-view-versus-a-copy\n",
            "\n",
            "^C\n"
          ]
        }
      ]
    }
  ]
}